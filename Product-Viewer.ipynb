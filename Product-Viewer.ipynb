{
 "cells": [
  {
   "cell_type": "code",
   "execution_count": 1,
   "metadata": {
    "collapsed": true
   },
   "outputs": [],
   "source": [
    "from selenium import webdriver\n",
    "#Selenium Module Helps us to control the browser"
   ]
  },
  {
   "cell_type": "code",
   "execution_count": 2,
   "metadata": {
    "collapsed": false
   },
   "outputs": [],
   "source": [
    "#def call():\n",
    " #   browser=webdriver.Firefox()"
   ]
  },
  {
   "cell_type": "code",
   "execution_count": 3,
   "metadata": {
    "collapsed": false
   },
   "outputs": [],
   "source": [
    "def get_amazon(x):\n",
    "    print('Opening Amazaon.in............')\n",
    "    from selenium import webdriver \n",
    "    browser=webdriver.Firefox()           #Open Web Browser\n",
    "    browser.get('http://www.amazon.in')   #Go to that particular Website\n",
    "    searchElem=browser.find_element_by_css_selector('#twotabsearchtextbox') #Search for the \"Search Box Code\" In the HTML\n",
    "    searchElem.send_keys(x)       #type into the specific element in the browser\n",
    "    searchElem.submit()\n",
    "    print('\\n')\n",
    "    print('Amazaon.in has been opened ')\n",
    "    print('\\n')\n",
    "    print('\\n')\n",
    "#browser.refresh()"
   ]
  },
  {
   "cell_type": "code",
   "execution_count": 4,
   "metadata": {
    "collapsed": true
   },
   "outputs": [],
   "source": [
    "\n",
    "def get_flipkart(x):\n",
    "    print('Opening Flipkart.com............')\n",
    "    from selenium import webdriver\n",
    "    browser=webdriver.Firefox()\n",
    "    browser.get('http://www.flipkart.com')\n",
    "    #searchElem=browser.find_element_by_css_selector('.LM6RPg+')\n",
    "    searchElem=browser.find_element_by_class_name('LM6RPg')\n",
    "    searchElem.send_keys(x)\n",
    "    (browser.find_element_by_css_selector('.vh79eN')).click()\n",
    "    #searchsubmit=browser.find_element_by_css_selector('.LM6RPg+')\n",
    "    #searchElem.submit()\n",
    "    print('\\n')\n",
    "    print('Flipkart.com has been opened ')\n",
    "    print('\\n')\n",
    "    print('\\n')\n",
    "#browser.refresh()"
   ]
  },
  {
   "cell_type": "code",
   "execution_count": 5,
   "metadata": {
    "collapsed": true
   },
   "outputs": [],
   "source": [
    "import pyautogui\n",
    "def get_paytm(x):\n",
    "    print('Opening Paytm.com............')\n",
    "    from selenium import webdriver\n",
    "    browser=webdriver.Firefox()\n",
    "    browser.get('http://www.paytm.com')\n",
    "#    searchElem=browser.find_element_by_class_name('_3HxD')\n",
    "    \n",
    "    searchElem=browser.find_element_by_css_selector('._3HxD > input:nth-child(2)') \n",
    "        \n",
    "# '.' refers to the class and _3HxD refers to the class name ,'>' indicates that the CSS selector should be  directly under,this class name \n",
    "# and nth-child(2) tells the 2nd child .. So basically,it is telling to find a css selector  which is directly under class name _3HxD \n",
    "# and which is also  2nd child of input\n",
    "        \n",
    "    searchElem.send_keys(x)\n",
    "    #browser.forward()\n",
    "    #pyautogui.press('1')\n",
    "    #pyautogui.press('right')\n",
    "    #pyautogui.press('enter');\n",
    "    #(browser.find_element_by_css_selector('.searchformButton')).click()\n",
    "    #searchElem.submit()\n",
    "    print('\\n')\n",
    "    print('Paytm.com has been opened ')\n",
    "    print('\\n')\n",
    "    print('\\n')\n",
    "#browser.refresh()"
   ]
  },
  {
   "cell_type": "code",
   "execution_count": 6,
   "metadata": {
    "collapsed": true
   },
   "outputs": [],
   "source": [
    "def get_ebay(x):\n",
    "    print('Opening Ebay.com............')\n",
    "    from selenium import webdriver\n",
    "    browser=webdriver.Firefox()\n",
    "    browser.get('http://www.ebay.com')\n",
    "    searchElem=browser.find_element_by_css_selector('#gh-ac')\n",
    "    searchElem.send_keys(x)\n",
    "    searchElem.submit()\n",
    "    print('\\n')\n",
    "    print('Ebay.com has been opened ')\n",
    "    print('\\n')\n",
    "    print('\\n')\n",
    "#browser.refresh()"
   ]
  },
  {
   "cell_type": "code",
   "execution_count": 7,
   "metadata": {
    "collapsed": true
   },
   "outputs": [],
   "source": [
    "def get_snapdeal(x):\n",
    "    print('Opening Snapdeal.com............')\n",
    "    from selenium import webdriver\n",
    "    browser=webdriver.Firefox()\n",
    "    browser.get('http://www.snapdeal.com')\n",
    "    searchElem=browser.find_element_by_css_selector('#inputValEnter')\n",
    "    searchElem.send_keys(x)\n",
    "    (browser.find_element_by_css_selector('.searchformButton')).click()\n",
    "    #searchElem.submit()\n",
    "    print('\\n')\n",
    "    print('Snapdeal.com has been opened ')\n",
    "    print('\\n')\n",
    "    print('\\n')\n",
    "#browser.refresh()"
   ]
  },
  {
   "cell_type": "code",
   "execution_count": 8,
   "metadata": {
    "collapsed": true
   },
   "outputs": [],
   "source": [
    "def get_yebhi(x):\n",
    "    print('Opening Yebhi.com............')\n",
    "    from selenium import webdriver\n",
    "    browser=webdriver.Firefox()\n",
    "    browser.get('http://www.yebhi.com')\n",
    "    searchElem=browser.find_element_by_id('txtSearch')\n",
    "    searchElem.send_keys(x)\n",
    "    (browser.find_element_by_css_selector('.input-group-btn > button:nth-child(1)')).click()\n",
    "    #searchElem.submit()\n",
    "    print('\\n')\n",
    "    print('Yebhi.com has been opened ')\n",
    "    print('\\n')\n",
    "    print('\\n')\n",
    "#browser.refresh()"
   ]
  },
  {
   "cell_type": "code",
   "execution_count": 9,
   "metadata": {
    "collapsed": false
   },
   "outputs": [],
   "source": [
    "def get_junglee(x):\n",
    "    print('Opening Junglee.com............')\n",
    "    from selenium import webdriver\n",
    "    browser=webdriver.Firefox()\n",
    "    browser.get('http://www.junglee.com')\n",
    "    searchElem=browser.find_element_by_css_selector('#searchBarInput')\n",
    "    searchElem.send_keys(x)\n",
    "    searchElem.submit()\n",
    "    print('\\n')\n",
    "    print('Junglee.com has been opened ')\n",
    "    print('\\n')\n",
    "    print('\\n')\n",
    "#browser.refresh()"
   ]
  },
  {
   "cell_type": "code",
   "execution_count": 10,
   "metadata": {
    "collapsed": false
   },
   "outputs": [],
   "source": [
    "def get_prod(x):\n",
    "    get_amazon(x)\n",
    "    get_flipkart(x)\n",
    "    get_snapdeal(x)\n",
    "    get_ebay(x)\n",
    "    get_yebhi(x)\n",
    "    get_paytm(x)\n",
    "    #get_junglee(x)"
   ]
  },
  {
   "cell_type": "code",
   "execution_count": 11,
   "metadata": {
    "collapsed": false
   },
   "outputs": [
    {
     "name": "stdout",
     "output_type": "stream",
     "text": [
      "Mobile Phones\n",
      "Opening Amazaon.in............\n",
      "\n",
      "\n",
      "Amazaon.in has been opened \n",
      "\n",
      "\n",
      "\n",
      "\n",
      "Opening Flipkart.com............\n",
      "\n",
      "\n",
      "Flipkart.com has been opened \n",
      "\n",
      "\n",
      "\n",
      "\n",
      "Opening Snapdeal.com............\n",
      "\n",
      "\n",
      "Snapdeal.com has been opened \n",
      "\n",
      "\n",
      "\n",
      "\n",
      "Opening Ebay.com............\n",
      "\n",
      "\n",
      "Ebay.com has been opened \n",
      "\n",
      "\n",
      "\n",
      "\n",
      "Opening Yebhi.com............\n",
      "\n",
      "\n",
      "Yebhi.com has been opened \n",
      "\n",
      "\n",
      "\n",
      "\n",
      "Opening Paytm.com............\n",
      "\n",
      "\n",
      "Paytm.com has been opened \n",
      "\n",
      "\n",
      "\n",
      "\n"
     ]
    }
   ],
   "source": [
    "x=raw_input()\n",
    "#call()\n",
    "get_prod(x)"
   ]
  },
  {
   "cell_type": "code",
   "execution_count": null,
   "metadata": {
    "collapsed": true
   },
   "outputs": [],
   "source": []
  }
 ],
 "metadata": {
  "kernelspec": {
   "display_name": "Python 2",
   "language": "python",
   "name": "python2"
  },
  "language_info": {
   "codemirror_mode": {
    "name": "ipython",
    "version": 2
   },
   "file_extension": ".py",
   "mimetype": "text/x-python",
   "name": "python",
   "nbconvert_exporter": "python",
   "pygments_lexer": "ipython2",
   "version": "2.7.12"
  }
 },
 "nbformat": 4,
 "nbformat_minor": 0
}
