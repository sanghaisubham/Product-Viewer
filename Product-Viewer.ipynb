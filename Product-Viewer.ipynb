{
 "cells": [
  {
   "cell_type": "code",
   "execution_count": null,
   "metadata": {
    "collapsed": true
   },
   "outputs": [],
   "source": [
    " from selenium import webdriver"
   ]
  },
  {
   "cell_type": "code",
   "execution_count": 48,
   "metadata": {
    "collapsed": false
   },
   "outputs": [],
   "source": [
    "#def call():\n",
    " #   browser=webdriver.Firefox()"
   ]
  },
  {
   "cell_type": "code",
   "execution_count": 66,
   "metadata": {
    "collapsed": false
   },
   "outputs": [],
   "source": [
    "def get_amazon(x):\n",
    "    from selenium import webdriver\n",
    "    browser=webdriver.Firefox()\n",
    "    browser.get('http://www.amazon.in')\n",
    "    searchElem=browser.find_element_by_css_selector('#twotabsearchtextbox')\n",
    "    searchElem.send_keys(x)\n",
    "    searchElem.submit()\n",
    "#browser.refresh()"
   ]
  },
  {
   "cell_type": "code",
   "execution_count": 67,
   "metadata": {
    "collapsed": true
   },
   "outputs": [],
   "source": [
    "def get_flipkart(x):\n",
    "    from selenium import webdriver\n",
    "    browser=webdriver.Firefox()\n",
    "    browser.get('http://www.flipkart.com')\n",
    "    searchElem=browser.find_element_by_css_selector('.LM6RPg')\n",
    "    searchElem.send_keys(x)\n",
    "    searchElem.submit()\n",
    "#browser.refresh()"
   ]
  },
  {
   "cell_type": "code",
   "execution_count": 68,
   "metadata": {
    "collapsed": true
   },
   "outputs": [],
   "source": [
    "def get_paytm(x):\n",
    "    from selenium import webdriver\n",
    "    browser=webdriver.Firefox()\n",
    "    browser.get('http://www.paytm.com')\n",
    "    searchElem=browser.find_element_by_css_selector('._3HxD > input:nth-child(2)')\n",
    "    searchElem.send_keys(x)\n",
    "    searchElem.submit()\n",
    "#browser.refresh()"
   ]
  },
  {
   "cell_type": "code",
   "execution_count": 69,
   "metadata": {
    "collapsed": true
   },
   "outputs": [],
   "source": [
    "def get_ebay(x):\n",
    "    from selenium import webdriver\n",
    "    browser=webdriver.Firefox()\n",
    "    browser.get('http://www.ebay.com')\n",
    "    searchElem=browser.find_element_by_css_selector('#gh-ac')\n",
    "    searchElem.send_keys(x)\n",
    "    searchElem.submit()\n",
    "#browser.refresh()"
   ]
  },
  {
   "cell_type": "code",
   "execution_count": 70,
   "metadata": {
    "collapsed": true
   },
   "outputs": [],
   "source": [
    "def get_snapdeal(x):\n",
    "    from selenium import webdriver\n",
    "    browser=webdriver.Firefox()\n",
    "    browser.get('http://www.snapdeal.com')\n",
    "    searchElem=browser.find_element_by_css_selector('#inputValEnter')\n",
    "    searchElem.send_keys(x)\n",
    "    searchElem.submit()\n",
    "#browser.refresh()"
   ]
  },
  {
   "cell_type": "code",
   "execution_count": 71,
   "metadata": {
    "collapsed": true
   },
   "outputs": [],
   "source": [
    "def get_yebhi(x):\n",
    "    from selenium import webdriver\n",
    "    browser=webdriver.Firefox()\n",
    "    browser.get('http://www.yebhi.com')\n",
    "    searchElem=browser.find_element_by_css_selector('#txtSearch')\n",
    "    searchElem.send_keys(x)\n",
    "    searchElem.submit()\n",
    "#browser.refresh()"
   ]
  },
  {
   "cell_type": "code",
   "execution_count": null,
   "metadata": {
    "collapsed": true
   },
   "outputs": [],
   "source": [
    "def get_junglee(x):\n",
    "    from selenium import webdriver\n",
    "    browser=webdriver.Firefox()\n",
    "    browser.get('http://www.junglee.com')\n",
    "    searchElem=browser.find_element_by_css_selector('#searchBarInput')\n",
    "    searchElem.send_keys(x)\n",
    "    searchElem.submit()\n",
    "#browser.refresh()"
   ]
  },
  {
   "cell_type": "code",
   "execution_count": null,
   "metadata": {
    "collapsed": false
   },
   "outputs": [],
   "source": [
    "def get_prod(x):\n",
    "    get_amazon(x)\n",
    "    get_flipkart(x)\n",
    "    get_paytm(x)\n",
    "    get_ebay(x)\n",
    "    get_snapdeal(x)\n",
    "    get_yebhi(x)\n",
    "    get_junglee(x)"
   ]
  },
  {
   "cell_type": "code",
   "execution_count": null,
   "metadata": {
    "collapsed": false
   },
   "outputs": [],
   "source": [
    "x=raw_input()\n",
    "#call()\n",
    "get_prod(x)"
   ]
  },
  {
   "cell_type": "code",
   "execution_count": null,
   "metadata": {
    "collapsed": true
   },
   "outputs": [],
   "source": []
  }
 ],
 "metadata": {
  "kernelspec": {
   "display_name": "Python 2",
   "language": "python",
   "name": "python2"
  },
  "language_info": {
   "codemirror_mode": {
    "name": "ipython",
    "version": 2
   },
   "file_extension": ".py",
   "mimetype": "text/x-python",
   "name": "python",
   "nbconvert_exporter": "python",
   "pygments_lexer": "ipython2",
   "version": "2.7.12"
  }
 },
 "nbformat": 4,
 "nbformat_minor": 0
}
